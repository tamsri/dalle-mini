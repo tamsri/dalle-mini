{
 "cells": [
  {
   "cell_type": "code",
   "execution_count": 1,
   "id": "4bdf0877",
   "metadata": {},
   "outputs": [],
   "source": [
    "from huggingface_hub import hf_hub_url"
   ]
  },
  {
   "cell_type": "code",
   "execution_count": 4,
   "id": "2a4bd9c2",
   "metadata": {},
   "outputs": [
    {
     "data": {
      "text/plain": [
       "'https://huggingface.co/dalle-mini/dalle-mega/resolve/main/config.json'"
      ]
     },
     "execution_count": 4,
     "metadata": {},
     "output_type": "execute_result"
    }
   ],
   "source": [
    "hf_hub_url(\n",
    "    repo_id='dalle-mini/dalle-mega',\n",
    "    filename=\"config.json\"\n",
    ")"
   ]
  }
 ],
 "metadata": {
  "kernelspec": {
   "display_name": "Python (ml04)",
   "language": "python",
   "name": "ml04"
  },
  "language_info": {
   "codemirror_mode": {
    "name": "ipython",
    "version": 3
   },
   "file_extension": ".py",
   "mimetype": "text/x-python",
   "name": "python",
   "nbconvert_exporter": "python",
   "pygments_lexer": "ipython3",
   "version": "3.7.12"
  }
 },
 "nbformat": 4,
 "nbformat_minor": 5
}
