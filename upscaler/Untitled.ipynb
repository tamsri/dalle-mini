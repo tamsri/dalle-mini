{
 "cells": [
  {
   "cell_type": "code",
   "execution_count": 2,
   "id": "06119c87",
   "metadata": {},
   "outputs": [],
   "source": [
    "import os\n",
    "# from google.colab import files\n",
    "import shutil"
   ]
  },
  {
   "cell_type": "code",
   "execution_count": null,
   "id": "781621b8",
   "metadata": {},
   "outputs": [],
   "source": [
    "upload_folder = 'upload'\n",
    "result_folder = 'results'\n",
    "\n",
    "if os.path.isdir(upload_folder):\n",
    "    shutil.rmtree(upload_folder)\n",
    "if os.path.isdir(result_folder):\n",
    "    shutil.rmtree(result_folder)\n",
    "os.mkdir(upload_folder)\n",
    "os.mkdir(result_folder)\n",
    "\n",
    "# upload images\n",
    "uploaded = files.upload()\n",
    "for filename in uploaded.keys():\n",
    "  dst_path = os.path.join(upload_folder, filename)\n",
    "  print(f'move {filename} to {dst_path}')\n",
    "  shutil.move(filename, dst_path)"
   ]
  },
  {
   "cell_type": "code",
   "execution_count": null,
   "id": "cbb8dd8f",
   "metadata": {},
   "outputs": [],
   "source": []
  }
 ],
 "metadata": {
  "kernelspec": {
   "display_name": "Python (ml04)",
   "language": "python",
   "name": "ml04"
  },
  "language_info": {
   "codemirror_mode": {
    "name": "ipython",
    "version": 3
   },
   "file_extension": ".py",
   "mimetype": "text/x-python",
   "name": "python",
   "nbconvert_exporter": "python",
   "pygments_lexer": "ipython3",
   "version": "3.7.12"
  }
 },
 "nbformat": 4,
 "nbformat_minor": 5
}
